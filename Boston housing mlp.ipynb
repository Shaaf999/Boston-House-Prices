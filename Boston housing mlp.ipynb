{
 "cells": [
  {
   "cell_type": "code",
   "execution_count": 8,
   "id": "b0992061",
   "metadata": {},
   "outputs": [
    {
     "name": "stdout",
     "output_type": "stream",
     "text": [
      "(404, 13)\n",
      "(102, 13)\n",
      "(404,)\n",
      "(102,)\n"
     ]
    }
   ],
   "source": [
    "from keras.datasets import boston_housing\n",
    "(X_train, y_train), (X_test, y_test) = boston_housing.load_data()\n",
    "print(X_train.shape)\n",
    "print(X_test.shape)\n",
    "print(y_train.shape)\n",
    "print(y_test.shape)\n",
    "from keras.models import Sequential\n",
    "model = Sequential()"
   ]
  },
  {
   "cell_type": "code",
   "execution_count": 9,
   "id": "edfc92bf",
   "metadata": {},
   "outputs": [],
   "source": [
    "from keras.layers import Activation, Dense\n",
    "model.add(Dense(10, input_shape = (13,), activation = 'sigmoid'))\n",
    "model.add(Dense(10, activation = 'sigmoid'))\n",
    "model.add(Dense(10, activation = 'sigmoid'))\n",
    "model.add(Dense(1))"
   ]
  },
  {
   "cell_type": "code",
   "execution_count": 10,
   "id": "afd45d1b",
   "metadata": {},
   "outputs": [],
   "source": [
    "from keras import optimizers\n",
    "import tensorflow as tf\n",
    "sgd= tf.keras.optimizers.SGD(learning_rate = 0.01)\n",
    "model.compile(optimizer = sgd, loss = 'mean_squared_error', metrics = ['mse']) "
   ]
  },
  {
   "cell_type": "code",
   "execution_count": 11,
   "id": "dfec97d9",
   "metadata": {},
   "outputs": [
    {
     "name": "stdout",
     "output_type": "stream",
     "text": [
      "Model: \"sequential_1\"\n",
      "_________________________________________________________________\n",
      "Layer (type)                 Output Shape              Param #   \n",
      "=================================================================\n",
      "dense (Dense)                (None, 10)                140       \n",
      "_________________________________________________________________\n",
      "dense_1 (Dense)              (None, 10)                110       \n",
      "_________________________________________________________________\n",
      "dense_2 (Dense)              (None, 10)                110       \n",
      "_________________________________________________________________\n",
      "dense_3 (Dense)              (None, 1)                 11        \n",
      "=================================================================\n",
      "Total params: 371\n",
      "Trainable params: 371\n",
      "Non-trainable params: 0\n",
      "_________________________________________________________________\n"
     ]
    }
   ],
   "source": [
    "model.summary()"
   ]
  },
  {
   "cell_type": "code",
   "execution_count": 12,
   "id": "23461bea",
   "metadata": {},
   "outputs": [
    {
     "name": "stdout",
     "output_type": "stream",
     "text": [
      "Epoch 1/100\n",
      "9/9 [==============================] - 1s 3ms/step - loss: 427.3415 - mse: 427.3415\n",
      "Epoch 2/100\n",
      "9/9 [==============================] - 0s 5ms/step - loss: 118.8514 - mse: 118.8514\n",
      "Epoch 3/100\n",
      "9/9 [==============================] - 0s 2ms/step - loss: 83.5909 - mse: 83.5909\n",
      "Epoch 4/100\n",
      "9/9 [==============================] - 0s 3ms/step - loss: 82.4123 - mse: 82.4123\n",
      "Epoch 5/100\n",
      "9/9 [==============================] - 0s 2ms/step - loss: 82.7356 - mse: 82.7356\n",
      "Epoch 6/100\n",
      "9/9 [==============================] - 0s 2ms/step - loss: 81.9704 - mse: 81.9704\n",
      "Epoch 7/100\n",
      "9/9 [==============================] - 0s 2ms/step - loss: 82.0549 - mse: 82.0549\n",
      "Epoch 8/100\n",
      "9/9 [==============================] - 0s 2ms/step - loss: 80.4224 - mse: 80.4224\n",
      "Epoch 9/100\n",
      "9/9 [==============================] - 0s 2ms/step - loss: 79.8861 - mse: 79.8861\n",
      "Epoch 10/100\n",
      "9/9 [==============================] - 0s 2ms/step - loss: 79.3073 - mse: 79.3073\n",
      "Epoch 11/100\n",
      "9/9 [==============================] - 0s 2ms/step - loss: 82.1836 - mse: 82.1836\n",
      "Epoch 12/100\n",
      "9/9 [==============================] - 0s 2ms/step - loss: 81.6166 - mse: 81.6166\n",
      "Epoch 13/100\n",
      "9/9 [==============================] - 0s 2ms/step - loss: 80.5620 - mse: 80.5620\n",
      "Epoch 14/100\n",
      "9/9 [==============================] - 0s 2ms/step - loss: 79.6776 - mse: 79.6776\n",
      "Epoch 15/100\n",
      "9/9 [==============================] - 0s 2ms/step - loss: 79.6394 - mse: 79.6394\n",
      "Epoch 16/100\n",
      "9/9 [==============================] - 0s 2ms/step - loss: 78.0943 - mse: 78.0943\n",
      "Epoch 17/100\n",
      "9/9 [==============================] - ETA: 0s - loss: 79.6337 - mse: 79.633 - 0s 2ms/step - loss: 78.2675 - mse: 78.2675\n",
      "Epoch 18/100\n",
      "9/9 [==============================] - 0s 2ms/step - loss: 76.4791 - mse: 76.4791\n",
      "Epoch 19/100\n",
      "9/9 [==============================] - 0s 2ms/step - loss: 75.8709 - mse: 75.8709\n",
      "Epoch 20/100\n",
      "9/9 [==============================] - 0s 3ms/step - loss: 74.6059 - mse: 74.6059\n",
      "Epoch 21/100\n",
      "9/9 [==============================] - 0s 2ms/step - loss: 73.7643 - mse: 73.7643\n",
      "Epoch 22/100\n",
      "9/9 [==============================] - 0s 2ms/step - loss: 85.1522 - mse: 85.1522\n",
      "Epoch 23/100\n",
      "9/9 [==============================] - 0s 2ms/step - loss: 81.9450 - mse: 81.9450\n",
      "Epoch 24/100\n",
      "9/9 [==============================] - 0s 2ms/step - loss: 83.1736 - mse: 83.1736\n",
      "Epoch 25/100\n",
      "9/9 [==============================] - 0s 2ms/step - loss: 82.2086 - mse: 82.2086\n",
      "Epoch 26/100\n",
      "9/9 [==============================] - 0s 3ms/step - loss: 80.8766 - mse: 80.8766\n",
      "Epoch 27/100\n",
      "9/9 [==============================] - 0s 2ms/step - loss: 82.6905 - mse: 82.6905\n",
      "Epoch 28/100\n",
      "9/9 [==============================] - 0s 3ms/step - loss: 82.5367 - mse: 82.5367\n",
      "Epoch 29/100\n",
      "9/9 [==============================] - 0s 3ms/step - loss: 80.3711 - mse: 80.3711\n",
      "Epoch 30/100\n",
      "9/9 [==============================] - 0s 2ms/step - loss: 80.6696 - mse: 80.6696\n",
      "Epoch 31/100\n",
      "9/9 [==============================] - 0s 2ms/step - loss: 82.1070 - mse: 82.1070\n",
      "Epoch 32/100\n",
      "9/9 [==============================] - 0s 2ms/step - loss: 80.3473 - mse: 80.3473\n",
      "Epoch 33/100\n",
      "9/9 [==============================] - 0s 3ms/step - loss: 80.2341 - mse: 80.2341\n",
      "Epoch 34/100\n",
      "9/9 [==============================] - 0s 2ms/step - loss: 80.0018 - mse: 80.0018\n",
      "Epoch 35/100\n",
      "9/9 [==============================] - 0s 2ms/step - loss: 82.4694 - mse: 82.4694\n",
      "Epoch 36/100\n",
      "9/9 [==============================] - 0s 2ms/step - loss: 79.1491 - mse: 79.1491\n",
      "Epoch 37/100\n",
      "9/9 [==============================] - 0s 2ms/step - loss: 79.3823 - mse: 79.3823\n",
      "Epoch 38/100\n",
      "9/9 [==============================] - 0s 2ms/step - loss: 78.7655 - mse: 78.7655\n",
      "Epoch 39/100\n",
      "9/9 [==============================] - 0s 2ms/step - loss: 79.2418 - mse: 79.2418\n",
      "Epoch 40/100\n",
      "9/9 [==============================] - 0s 2ms/step - loss: 79.1477 - mse: 79.1477\n",
      "Epoch 41/100\n",
      "9/9 [==============================] - 0s 2ms/step - loss: 78.8088 - mse: 78.8088\n",
      "Epoch 42/100\n",
      "9/9 [==============================] - 0s 2ms/step - loss: 79.0783 - mse: 79.0783\n",
      "Epoch 43/100\n",
      "9/9 [==============================] - 0s 2ms/step - loss: 79.0040 - mse: 79.0040\n",
      "Epoch 44/100\n",
      "9/9 [==============================] - 0s 2ms/step - loss: 79.3483 - mse: 79.3483\n",
      "Epoch 45/100\n",
      "9/9 [==============================] - 0s 2ms/step - loss: 78.9704 - mse: 78.9704\n",
      "Epoch 46/100\n",
      "9/9 [==============================] - 0s 2ms/step - loss: 85.7743 - mse: 85.7743\n",
      "Epoch 47/100\n",
      "9/9 [==============================] - 0s 2ms/step - loss: 79.5818 - mse: 79.5818\n",
      "Epoch 48/100\n",
      "9/9 [==============================] - 0s 2ms/step - loss: 79.0529 - mse: 79.0529\n",
      "Epoch 49/100\n",
      "9/9 [==============================] - 0s 2ms/step - loss: 78.3059 - mse: 78.3059\n",
      "Epoch 50/100\n",
      "9/9 [==============================] - 0s 2ms/step - loss: 77.9353 - mse: 77.9353\n",
      "Epoch 51/100\n",
      "9/9 [==============================] - 0s 3ms/step - loss: 77.3140 - mse: 77.3140\n",
      "Epoch 52/100\n",
      "9/9 [==============================] - 0s 2ms/step - loss: 78.5599 - mse: 78.5599\n",
      "Epoch 53/100\n",
      "9/9 [==============================] - 0s 2ms/step - loss: 77.4490 - mse: 77.4490\n",
      "Epoch 54/100\n",
      "9/9 [==============================] - 0s 2ms/step - loss: 77.8567 - mse: 77.8567\n",
      "Epoch 55/100\n",
      "9/9 [==============================] - 0s 2ms/step - loss: 78.0639 - mse: 78.0639\n",
      "Epoch 56/100\n",
      "9/9 [==============================] - 0s 2ms/step - loss: 77.5674 - mse: 77.5674\n",
      "Epoch 57/100\n",
      "9/9 [==============================] - 0s 2ms/step - loss: 78.3930 - mse: 78.3930\n",
      "Epoch 58/100\n",
      "9/9 [==============================] - 0s 2ms/step - loss: 78.8551 - mse: 78.8551\n",
      "Epoch 59/100\n",
      "9/9 [==============================] - 0s 2ms/step - loss: 77.4976 - mse: 77.4976\n",
      "Epoch 60/100\n",
      "9/9 [==============================] - 0s 2ms/step - loss: 78.1530 - mse: 78.1530\n",
      "Epoch 61/100\n",
      "9/9 [==============================] - ETA: 0s - loss: 98.9659 - mse: 98.965 - 0s 2ms/step - loss: 79.0840 - mse: 79.0840\n",
      "Epoch 62/100\n",
      "9/9 [==============================] - 0s 2ms/step - loss: 77.2838 - mse: 77.2838\n",
      "Epoch 63/100\n",
      "9/9 [==============================] - 0s 2ms/step - loss: 78.0834 - mse: 78.0834\n",
      "Epoch 64/100\n",
      "9/9 [==============================] - 0s 2ms/step - loss: 77.3628 - mse: 77.3628\n",
      "Epoch 65/100\n",
      "9/9 [==============================] - 0s 2ms/step - loss: 77.8708 - mse: 77.8708\n",
      "Epoch 66/100\n",
      "9/9 [==============================] - 0s 2ms/step - loss: 77.3454 - mse: 77.3454\n",
      "Epoch 67/100\n",
      "9/9 [==============================] - 0s 2ms/step - loss: 76.9792 - mse: 76.9792\n",
      "Epoch 68/100\n",
      "9/9 [==============================] - 0s 2ms/step - loss: 77.8139 - mse: 77.8139\n",
      "Epoch 69/100\n",
      "9/9 [==============================] - 0s 2ms/step - loss: 77.8457 - mse: 77.8457\n",
      "Epoch 70/100\n",
      "9/9 [==============================] - 0s 2ms/step - loss: 76.9105 - mse: 76.9105\n",
      "Epoch 71/100\n",
      "9/9 [==============================] - 0s 2ms/step - loss: 77.7431 - mse: 77.7431\n",
      "Epoch 72/100\n",
      "9/9 [==============================] - 0s 2ms/step - loss: 76.9937 - mse: 76.9937\n",
      "Epoch 73/100\n",
      "9/9 [==============================] - 0s 2ms/step - loss: 77.4786 - mse: 77.4786\n",
      "Epoch 74/100\n",
      "9/9 [==============================] - 0s 2ms/step - loss: 78.5022 - mse: 78.5022\n",
      "Epoch 75/100\n",
      "9/9 [==============================] - 0s 2ms/step - loss: 77.5121 - mse: 77.5121\n",
      "Epoch 76/100\n",
      "9/9 [==============================] - 0s 2ms/step - loss: 77.1852 - mse: 77.1852\n",
      "Epoch 77/100\n",
      "9/9 [==============================] - 0s 2ms/step - loss: 78.0949 - mse: 78.0949\n",
      "Epoch 78/100\n",
      "9/9 [==============================] - 0s 2ms/step - loss: 77.7611 - mse: 77.7611\n",
      "Epoch 79/100\n",
      "9/9 [==============================] - 0s 2ms/step - loss: 77.8033 - mse: 77.8033\n",
      "Epoch 80/100\n",
      "9/9 [==============================] - 0s 2ms/step - loss: 78.1958 - mse: 78.1958\n",
      "Epoch 81/100\n",
      "9/9 [==============================] - 0s 2ms/step - loss: 77.4499 - mse: 77.4499\n",
      "Epoch 82/100\n",
      "9/9 [==============================] - 0s 2ms/step - loss: 77.4022 - mse: 77.4022\n",
      "Epoch 83/100\n",
      "9/9 [==============================] - 0s 2ms/step - loss: 77.3727 - mse: 77.3727\n",
      "Epoch 84/100\n",
      "9/9 [==============================] - 0s 2ms/step - loss: 77.1149 - mse: 77.1149\n",
      "Epoch 85/100\n",
      "9/9 [==============================] - 0s 2ms/step - loss: 78.2702 - mse: 78.2702\n",
      "Epoch 86/100\n",
      "9/9 [==============================] - 0s 2ms/step - loss: 78.3151 - mse: 78.3151\n",
      "Epoch 87/100\n",
      "9/9 [==============================] - 0s 2ms/step - loss: 77.3548 - mse: 77.3548\n",
      "Epoch 88/100\n",
      "9/9 [==============================] - 0s 2ms/step - loss: 77.5644 - mse: 77.5644\n",
      "Epoch 89/100\n",
      "9/9 [==============================] - 0s 2ms/step - loss: 77.2181 - mse: 77.2181\n",
      "Epoch 90/100\n",
      "9/9 [==============================] - 0s 2ms/step - loss: 78.5788 - mse: 78.5788\n",
      "Epoch 91/100\n",
      "9/9 [==============================] - 0s 2ms/step - loss: 78.3974 - mse: 78.3974\n",
      "Epoch 92/100\n",
      "9/9 [==============================] - 0s 2ms/step - loss: 77.5499 - mse: 77.5499\n",
      "Epoch 93/100\n",
      "9/9 [==============================] - 0s 3ms/step - loss: 78.2730 - mse: 78.2730\n",
      "Epoch 94/100\n",
      "9/9 [==============================] - 0s 2ms/step - loss: 77.7184 - mse: 77.7184\n",
      "Epoch 95/100\n",
      "9/9 [==============================] - 0s 2ms/step - loss: 77.3303 - mse: 77.3303\n",
      "Epoch 96/100\n",
      "9/9 [==============================] - 0s 3ms/step - loss: 77.5985 - mse: 77.5985\n",
      "Epoch 97/100\n",
      "9/9 [==============================] - 0s 2ms/step - loss: 77.3120 - mse: 77.3120\n",
      "Epoch 98/100\n",
      "9/9 [==============================] - 0s 2ms/step - loss: 77.3560 - mse: 77.3560\n",
      "Epoch 99/100\n",
      "9/9 [==============================] - ETA: 0s - loss: 43.1443 - mse: 43.144 - 0s 2ms/step - loss: 78.9556 - mse: 78.9556\n",
      "Epoch 100/100\n",
      "9/9 [==============================] - 0s 2ms/step - loss: 77.4110 - mse: 77.4110\n"
     ]
    },
    {
     "data": {
      "text/plain": [
       "<keras.callbacks.History at 0x1a181366730>"
      ]
     },
     "execution_count": 12,
     "metadata": {},
     "output_type": "execute_result"
    }
   ],
   "source": [
    "model.fit(X_train, y_train, batch_size = 50, epochs = 100, verbose = 1)"
   ]
  },
  {
   "cell_type": "code",
   "execution_count": 13,
   "id": "2cad5e02",
   "metadata": {},
   "outputs": [
    {
     "name": "stdout",
     "output_type": "stream",
     "text": [
      "4/4 [==============================] - 0s 2ms/step - loss: 78.1673 - mse: 78.1673\n"
     ]
    }
   ],
   "source": [
    "results = model.evaluate(X_test, y_test)"
   ]
  },
  {
   "cell_type": "code",
   "execution_count": 14,
   "id": "2a5fecd1",
   "metadata": {},
   "outputs": [
    {
     "name": "stdout",
     "output_type": "stream",
     "text": [
      "['loss', 'mse']\n",
      "[78.16726684570312, 78.16726684570312]\n"
     ]
    }
   ],
   "source": [
    "print(model.metrics_names)    \n",
    "print(results)   "
   ]
  },
  {
   "cell_type": "code",
   "execution_count": 15,
   "id": "bf788676",
   "metadata": {},
   "outputs": [
    {
     "name": "stdout",
     "output_type": "stream",
     "text": [
      "loss:  78.16726684570312\n",
      "mse:  78.16726684570312\n"
     ]
    }
   ],
   "source": [
    "print('loss: ', results[0])\n",
    "print('mse: ', results[1])"
   ]
  }
 ],
 "metadata": {
  "kernelspec": {
   "display_name": "Python 3",
   "language": "python",
   "name": "python3"
  },
  "language_info": {
   "codemirror_mode": {
    "name": "ipython",
    "version": 3
   },
   "file_extension": ".py",
   "mimetype": "text/x-python",
   "name": "python",
   "nbconvert_exporter": "python",
   "pygments_lexer": "ipython3",
   "version": "3.9.5"
  }
 },
 "nbformat": 4,
 "nbformat_minor": 5
}
